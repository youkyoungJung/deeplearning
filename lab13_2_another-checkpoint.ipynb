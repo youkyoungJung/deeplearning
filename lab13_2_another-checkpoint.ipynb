{
 "cells": [
  {
   "cell_type": "code",
   "execution_count": null,
   "metadata": {},
   "outputs": [],
   "source": [
    "import pandas as pd\n",
    "import matplotlib.pyplot as plt\n",
    "\n",
    "df1 = pd.read_csv('C:/Users/yyk834/study/dataset/train_SectionDataset.csv', header=0) \n",
    "df1_new = df1[df1['section'] == 0]\n",
    "print( df1.shape )\n",
    "#print( df1.title[0])\n",
    "print( df1_section)\n",
    "\n",
    "df2 = pd.read_csv('C:/Users/yyk834/study/dataset/test_SectionDataset.csv', header=0) \n",
    "df2_new = df2[df2['section'] == 0]\n",
    "print( df2.shape )\n",
    "print( df2.title[0] )\n",
    "\n",
    "df3 = pd.concat([df1,df2], axis=0, ignore_index=True)\n",
    "print( df3.shape )\n",
    "print( df3.title[0])"
   ]
  },
  {
   "cell_type": "code",
   "execution_count": null,
   "metadata": {
    "scrolled": true
   },
   "outputs": [],
   "source": [
    "from sklearn.feature_extraction.text import CountVectorizer\n",
    "\n",
    "#print( df1[['title'].append(df2['title'][:0])].head(5) )\n",
    "count_vector = CountVectorizer( ngram_range=(1,3) )\n",
    "c_vector_titles = count_vector.fit_transform( df1_new['title'].append(df2_new['title'][:70]))\n",
    "print( c_vector_titles.shape )\n",
    "print( c_vector_titles )"
   ]
  },
  {
   "cell_type": "code",
   "execution_count": null,
   "metadata": {
    "scrolled": true
   },
   "outputs": [],
   "source": [
    "#유사도분석\n",
    "from sklearn.metrics.pairwise import cosine_similarity\n",
    "\n",
    "titles_c_sim = cosine_similarity( c_vector_titles )\n",
    "print( titles_c_sim )\n",
    "\n",
    "titles_c_sim = titles_c_sim.argsort()[:, ::-1]\n",
    "print( titles_c_sim )"
   ]
  },
  {
   "cell_type": "code",
   "execution_count": null,
   "metadata": {},
   "outputs": [],
   "source": [
    "print(df1['title'])\n",
    "print(df1['title'].append(df2['title'][:1]))\n"
   ]
  },
  {
   "cell_type": "code",
   "execution_count": null,
   "metadata": {
    "scrolled": false
   },
   "outputs": [],
   "source": [
    "def get_recommend_news_list(df, input_title , top = 5): # 입력 제목 영화의 인텍스 값 추출 \n",
    "#     target_index = df[ (df['section'] == 0)]\n",
    "#     print( \"target_index: \", target_index ) \n",
    "    target_index2 = df[df['title'] == input_title].index.values \n",
    "    print(\"target_index2: \", target_index2 ) \n",
    "    # 코사인 유사도 중 비슷한 코사인 유사도를 가진 정보를 추출\n",
    "\n",
    "    sim_index1 = titles_c_sim[target_index2, :top]\n",
    "    print( sim_index1 )\n",
    "    sim_index2 = sim_index1.reshape(-1)\n",
    "    print(\"sim_index2\", sim_index2 )\n",
    "    # 본인 제외\n",
    "    sim_index3 = sim_index2[ sim_index2 != target_index2]\n",
    "    print(\"sim_index3 \", sim_index3 )\n",
    "    return  df.iloc[ sim_index2 ]\n",
    "\n",
    "get_recommend_news_list(df3 ,df2.title[1])\n",
    "\n",
    "#print(df2.title[0])\n",
    "\n",
    "#print(df3.title[0])"
   ]
  },
  {
   "cell_type": "code",
   "execution_count": null,
   "metadata": {},
   "outputs": [],
   "source": [
    "print(df3[df3['title']==df3.title[0]].title.values)"
   ]
  },
  {
   "cell_type": "code",
   "execution_count": null,
   "metadata": {},
   "outputs": [],
   "source": []
  }
 ],
 "metadata": {
  "kernelspec": {
   "display_name": "Python 3",
   "language": "python",
   "name": "python3"
  },
  "language_info": {
   "codemirror_mode": {
    "name": "ipython",
    "version": 3
   },
   "file_extension": ".py",
   "mimetype": "text/x-python",
   "name": "python",
   "nbconvert_exporter": "python",
   "pygments_lexer": "ipython3",
   "version": "3.6.13"
  }
 },
 "nbformat": 4,
 "nbformat_minor": 4
}
