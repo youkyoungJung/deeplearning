{
 "cells": [
  {
   "cell_type": "code",
   "execution_count": 2,
   "metadata": {},
   "outputs": [],
   "source": [
    "import numpy as np\n",
    "import pandas as pd\n",
    "import matplotlib.pyplot as plt\n",
    "\n",
    "#공부시간 X와 성적 Y의 리스트를 만듭니다.\n",
    "data = [[2.0, 0.0], [4.0, 0.0], [6.0, 0.0], [8.0, 1.0], [10.0, 1.0], [12.0, 1.0], [14.0, 1.0]]"
   ]
  },
  {
   "cell_type": "code",
   "execution_count": 8,
   "metadata": {},
   "outputs": [
    {
     "name": "stdout",
     "output_type": "stream",
     "text": [
      "epoch=0, 기울기=0.1143, 절편=0.0036, mse: 0.2500\n",
      "epoch=1000, 기울기=0.6151, 절편=-3.9134, mse: 0.0457\n",
      "epoch=2000, 기울기=0.8313, 절편=-5.5174, mse: 0.0301\n",
      "epoch=3000, 기울기=0.9807, 절편=-6.6027, mse: 0.0233\n",
      "epoch=4000, 기울기=1.0988, 절편=-7.4521, mse: 0.0192\n",
      "epoch=5000, 기울기=1.1982, 절편=-8.1634, mse: 0.0164\n",
      "epoch=6000, 기울기=1.2850, 절편=-8.7823, mse: 0.0142\n",
      "epoch=7000, 기울기=1.3627, 절편=-9.3343, mse: 0.0125\n",
      "epoch=8000, 기울기=1.4333, 절편=-9.8351, mse: 0.0111\n",
      "epoch=9000, 기울기=1.4982, 절편=-10.2952, mse: 0.0100\n",
      "epoch=10000, 기울기=1.5585, 절편=-10.7218, mse: 0.0090\n"
     ]
    },
    {
     "data": {
      "image/png": "[encoded data removed]",
      "text/plain": [
       "<Figure size 432x288 with 1 Axes>"
      ]
     },
     "metadata": {
      "needs_background": "light"
     },
     "output_type": "display_data"
    }
   ],
   "source": [
    "#UPDATE\n",
    "\n",
    "#책의 코드는 각각의 x에 대한 기울기, 절편의 변화가 epoch마다 모두 출력 되어 이를 확인하게 끔 되어 있습니다.\n",
    "#평균값을 구해 하나의 기울기와 절편을 출력하고, 1000 epoch마다 그래프를 그리면 다음과 같습니다.  \n",
    "\n",
    "#시그모이드 함수를 정의합니다.\n",
    "def sigmoid(x):\n",
    "    return 1 / (1 + np.e ** (-x))\n",
    "\n",
    "# 데이터 선언 \n",
    "x = [i[0] for i in data]\n",
    "y = [i[1] for i in data]\n",
    "x_data = np.array(x)\n",
    "y_data = np.array(y)\n",
    "\n",
    "# 위에 계산된 a와 b의 값이 다시 사용되지 않기 위해 각각 0으로 초기화 합니다.\n",
    "a = 0\n",
    "b = 0\n",
    "\n",
    "loss = []\n",
    "epoch = []\n",
    "\n",
    "lr = 0.05\n",
    "\n",
    "#경사 하강법을 실행합니다.\n",
    "for i in range(10001):\n",
    "                    \n",
    " #실습과제1\n",
    "    y_hat = sigmoid(a * x_data + b)  #y를 구하는 식을 세웁니다\n",
    "    mse = ((y_data-y_hat)**2).mean()\n",
    "    loss.append(mse)\n",
    "    epoch.append(i)\n",
    "\n",
    "#\n",
    "    a_diff = (1/len(x_data))*sum(x_data*(sigmoid(a*x_data + b) - y_data)) \n",
    "    b_diff = (1/len(x_data))*sum(sigmoid(a*x_data + b) - y_data)\n",
    "    a = a - lr * a_diff\n",
    "    b = b - lr * b_diff\n",
    "\n",
    "    if i % 1000 == 0:    # 1000번 반복될 때마다 각 x_data값에 대한 현재의 a값, b값을 출력합니다.\n",
    "        print(\"epoch=%.f, 기울기=%.04f, 절편=%.04f, mse: %.04f\" % (i, a, b, mse))\n",
    "\n",
    "        plt.xlim(0, 10001)\n",
    "        plt.ylim(0, 0.2,0.2)\n",
    "        plt.xlabel('epoch(Loop Num)')\n",
    "        plt.ylabel('loss[]')\n",
    "        x_range = (np.arange(0, 15, 0.1)) #그래프로 나타낼 x값의 범위를 정합니다.\n",
    "        plt.scatter(i, loss[i])\n",
    "        #plt.plot(np.arange(0, 15, 0.1), np.array([ sigmoid(a * x_data + b) for x_data in x_range]))\n",
    "\n",
    "        plt.plot(epoch, loss)\n",
    "        #plt.show()\n"
   ]
  },
  {
   "cell_type": "code",
   "execution_count": 64,
   "metadata": {},
   "outputs": [
    {
     "name": "stdout",
     "output_type": "stream",
     "text": [
      "[2.0, 0.0] [4.0, 0.0] [6.0, 0.0]\n"
     ]
    }
   ],
   "source": [
    "print(data[0], data[1], data[2])"
   ]
  },
  {
   "cell_type": "code",
   "execution_count": 66,
   "metadata": {},
   "outputs": [
    {
     "name": "stdout",
     "output_type": "stream",
     "text": [
      "2.0 4.0\n"
     ]
    }
   ],
   "source": [
    "print(x[0], x[1])"
   ]
  },
  {
   "cell_type": "code",
   "execution_count": 79,
   "metadata": {},
   "outputs": [
    {
     "name": "stdout",
     "output_type": "stream",
     "text": [
      "Input: 2.0, Real: 0.0, Expect: 0.0000\n",
      "Input: 4.0, Real: 0.0, Expect: 0.0001\n",
      "Input: 6.0, Real: 0.0, Expect: 0.0410\n",
      "Input: 8.0, Real: 1.0, Expect: 0.0220\n",
      "Input: 10.0, Real: 1.0, Expect: 0.0001\n",
      "Input: 12.0, Real: 1.0, Expect: 0.0000\n",
      "Input: 14.0, Real: 1.0, Expect: 0.0000\n"
     ]
    }
   ],
   "source": [
    "for i in range(7):\n",
    "    y_hat = sigmoid(a * x[i] + b)  #y를 구하는 식을 세웁니다\n",
    "    mse = ((y[i]-y_hat)**2).mean()\n",
    "    print(\"Input: %.1f, Real: %.1f, Expect: %.4f\" %(x[i], y[i], mse))"
   ]
  },
  {
   "cell_type": "code",
   "execution_count": null,
   "metadata": {},
   "outputs": [],
   "source": []
  }
 ],
 "metadata": {
  "kernelspec": {
   "display_name": "Python 3",
   "language": "python",
   "name": "python3"
  },
  "language_info": {
   "codemirror_mode": {
    "name": "ipython",
    "version": 3
   },
   "file_extension": ".py",
   "mimetype": "text/x-python",
   "name": "python",
   "nbconvert_exporter": "python",
   "pygments_lexer": "ipython3",
   "version": "3.6.5"
  }
 },
 "nbformat": 4,
 "nbformat_minor": 2
}
