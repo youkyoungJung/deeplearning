{
 "cells": [
  {
   "cell_type": "code",
   "execution_count": 192,
   "id": "hydraulic-thong",
   "metadata": {},
   "outputs": [
    {
     "data": {
      "image/png": "[encoded data removed]",
      "text/plain": [
       "<Figure size 576x360 with 1 Axes>"
      ]
     },
     "metadata": {
      "needs_background": "light"
     },
     "output_type": "display_data"
    }
   ],
   "source": [
    "import numpy as np\n",
    "import pandas as pd\n",
    "import matplotlib.pyplot as plt\n",
    "\n",
    "#공부시간 X와 성적 Y의 리스트를 만듭니다.\n",
    "data = [[2, 81], [4, 93], [6, 91], [8, 97]]\n",
    "x = [i[0] for i in data]\n",
    "y = [i[1] for i in data]\n",
    "\n",
    "\n",
    "#그래프로 나타내 봅니다.\n",
    "plt.figure(figsize=(8,5))\n",
    "plt.scatter(x, y)\n",
    "plt.show()"
   ]
  },
  {
   "cell_type": "code",
   "execution_count": 193,
   "id": "dimensional-holiday",
   "metadata": {},
   "outputs": [
    {
     "name": "stdout",
     "output_type": "stream",
     "text": [
      "epoch=0, 기울기=37.1200, 절편=7.2400, LR: 0.04000, a_diff= -928.00, b_diff= -181.00, MSE : 8225.000000000\n",
      "epoch=400, 기울기=2.5534, 절편=77.4880, LR: 0.03000, a_diff= 0.08, b_diff= -0.50, MSE : 8.688606371\n",
      "epoch=800, 기울기=2.3051, 절편=78.9697, LR: 0.03000, a_diff= 0.00, b_diff= -0.01, MSE : 8.300155957\n",
      "epoch=1200, 기울기=2.3001, 절편=78.9994, LR: 0.03000, a_diff= 0.00, b_diff= -0.00, MSE : 8.300000063\n",
      "epoch=1600, 기울기=2.3000, 절편=79.0000, LR: 0.03000, a_diff= 0.00, b_diff= -0.00, MSE : 8.300000000\n",
      "epoch=2000, 기울기=2.3000, 절편=79.0000, LR: -0.00000, a_diff= 0.00, b_diff= -0.00, MSE : 8.300000000\n"
     ]
    }
   ],
   "source": [
    "#리스트로 되어 있는 x와 y값을 넘파이 배열로 바꾸어 줍니다.(인덱스를 주어 하나씩 불러와 계산이 가능해 지도록 하기 위함입니다.)\n",
    "x_data = np.array(x)\n",
    "y_data = np.array(y)\n",
    "\n",
    "# 기울기 a와 절편 b의 값을 초기화 합니다.\n",
    "a = 0\n",
    "b = 0\n",
    "\n",
    "#학습률을 정합니다.\n",
    "lr = 0.05\n",
    "\n",
    "#몇 번 반복될지를 설정합니다.\n",
    "epochs = 2001 \n",
    "    \n",
    "#경사 하강법을 시작합니다.\n",
    "for i in range(epochs): # epoch 수 만큼 반복\n",
    "    y_hat = a * x_data + b  #y를 구하는 식을 세웁니다\n",
    "    \n",
    "    mse = ((y_data-y_hat)**2).mean()\n",
    "    if mse > mse_al:\n",
    "        lr = lr - 0.01\n",
    "    mse_al = mse   \n",
    "    \n",
    "    error = y_data - y_hat  #오차를 구하는 식입니다.\n",
    "    a_diff = -(2/len(x_data)) * sum(x_data * (error)) # 오차함수를 a로 미분한 값입니다. \n",
    "    b_diff = -(2/len(x_data)) * sum(error)  # 오차함수를 b로 미분한 값입니다. \n",
    "    a = a - lr * a_diff  # 학습률을 곱해 기존의 a값을 업데이트합니다.\n",
    "    b = b - lr * b_diff  # 학습률을 곱해 기존의 b값을 업데이트합니다.\n",
    "   \n",
    "    if i % 400 == 0:    # 100번 반복될 때마다 현재의 a값, b값을 출력합니다.\n",
    "        print(\"epoch=%.f, 기울기=%.04f, 절편=%.04f, LR: %.05f, a_diff= %.02f, b_diff= %.02f, MSE : %.09f\"\n",
    "              % (i, a, b, lr, a_diff, b_diff, mse))"
   ]
  },
  {
   "cell_type": "code",
   "execution_count": 194,
   "id": "lightweight-berkeley",
   "metadata": {},
   "outputs": [
    {
     "data": {
      "image/png": "[encoded data removed]",
      "text/plain": [
       "<Figure size 432x288 with 1 Axes>"
      ]
     },
     "metadata": {
      "needs_background": "light"
     },
     "output_type": "display_data"
    }
   ],
   "source": [
    "# 앞서 구한 기울기와 절편을 이용해 그래프를 그려 봅니다.\n",
    "y_pred = a * x_data + b\n",
    "plt.scatter(x, y, marker=\"x\")\n",
    "\n",
    "#plt.plot([min(x_data), max(x_data)], [min(y_pred), max(y_pred)])\n",
    "\n",
    "for i in data:\n",
    "    plt.plot([i[0], i[0]], [i[1],  a * i[0] + b])\n",
    "    plt.scatter(i[0], i[1])\n",
    "\n",
    "plt.plot(x, y_pred)\n",
    "plt.show()"
   ]
  },
  {
   "cell_type": "code",
   "execution_count": 198,
   "id": "gentle-edinburgh",
   "metadata": {},
   "outputs": [
    {
     "data": {
      "image/png": "[encoded data removed]",
      "text/plain": [
       "<Figure size 576x360 with 1 Axes>"
      ]
     },
     "metadata": {
      "needs_background": "light"
     },
     "output_type": "display_data"
    }
   ],
   "source": [
    "import numpy as np\n",
    "import pandas as pd\n",
    "import matplotlib.pyplot as plt\n",
    "\n",
    "#공부시간 X와 성적 Y의 리스트를 만듭니다.\n",
    "np.random.seed(0)\n",
    "a= np.random.randint(1, 99, size = 20)\n",
    "data = np.reshape(list(a), (10,2))\n",
    "\n",
    "x = [i[0] for i in data]\n",
    "y = [i[1] for i in data]\n",
    "\n",
    "\n",
    "#그래프로 나타내 봅니다.\n",
    "plt.figure(figsize=(8,5))\n",
    "plt.scatter(x, y)\n",
    "plt.show()"
   ]
  },
  {
   "cell_type": "code",
   "execution_count": 199,
   "id": "referenced-lunch",
   "metadata": {},
   "outputs": [
    {
     "name": "stdout",
     "output_type": "stream",
     "text": [
      "epoch=0, 기울기=1.2575, 절편=0.0232, LR: 0.00020, a_diff= -6287.40, b_diff= -116.20, MSE : 4336.700000000\n",
      "epoch=400, 기울기=0.7703, 절편=1.6080, LR: 0.00020, a_diff= 0.30, b_diff= -19.78, MSE : 1806.012524040\n",
      "epoch=800, 기울기=0.7462, 절편=3.1809, LR: 0.00020, a_diff= 0.30, b_diff= -19.55, MSE : 1775.076180442\n",
      "epoch=1200, 기울기=0.7225, 절편=4.7352, LR: 0.00020, a_diff= 0.30, b_diff= -19.31, MSE : 1744.868956321\n",
      "epoch=1600, 기울기=0.6990, 절편=6.2711, LR: 0.00020, a_diff= 0.29, b_diff= -19.08, MSE : 1715.373667512\n",
      "epoch=2000, 기울기=0.6757, 절편=7.7888, LR: 0.00020, a_diff= 0.29, b_diff= -18.86, MSE : 1686.573534853\n"
     ]
    }
   ],
   "source": [
    "#리스트로 되어 있는 x와 y값을 넘파이 배열로 바꾸어 줍니다.(인덱스를 주어 하나씩 불러와 계산이 가능해 지도록 하기 위함입니다.)\n",
    "x_data = np.array(x)\n",
    "y_data = np.array(y)\n",
    "\n",
    "# 기울기 a와 절편 b의 값을 초기화 합니다.\n",
    "a = 0\n",
    "b = 0\n",
    "\n",
    "#학습률을 정합니다.\n",
    "lr = 0.0002\n",
    "\n",
    "#몇 번 반복될지를 설정합니다.\n",
    "epochs = 2001 \n",
    "    \n",
    "#경사 하강법을 시작합니다.\n",
    "for i in range(epochs): # epoch 수 만큼 반복\n",
    "    y_hat = a * x_data + b  #y를 구하는 식을 세웁니다\n",
    "    \n",
    "    mse = ((y_data-y_hat)**2).mean()\n",
    "    if mse > mse_al:\n",
    "        lr = lr - 0.01\n",
    "    mse_al = mse   \n",
    "    \n",
    "    error = y_data - y_hat  #오차를 구하는 식입니다.\n",
    "    a_diff = -(2/len(x_data)) * sum(x_data * (error)) # 오차함수를 a로 미분한 값입니다. \n",
    "    b_diff = -(2/len(x_data)) * sum(error)  # 오차함수를 b로 미분한 값입니다. \n",
    "    a = a - lr * a_diff  # 학습률을 곱해 기존의 a값을 업데이트합니다.\n",
    "    b = b - lr * b_diff  # 학습률을 곱해 기존의 b값을 업데이트합니다.\n",
    "   \n",
    "    if i % 400 == 0:    # 100번 반복될 때마다 현재의 a값, b값을 출력합니다.\n",
    "        print(\"epoch=%.f, 기울기=%.04f, 절편=%.04f, LR: %.05f, a_diff= %.02f, b_diff= %.02f, MSE : %.09f\"\n",
    "              % (i, a, b, lr, a_diff, b_diff, mse))"
   ]
  },
  {
   "cell_type": "code",
   "execution_count": 200,
   "id": "rocky-federal",
   "metadata": {},
   "outputs": [
    {
     "data": {
      "image/png": "[encoded data removed]",
      "text/plain": [
       "<Figure size 432x288 with 1 Axes>"
      ]
     },
     "metadata": {
      "needs_background": "light"
     },
     "output_type": "display_data"
    }
   ],
   "source": [
    "# 앞서 구한 기울기와 절편을 이용해 그래프를 그려 봅니다.\n",
    "y_pred = a * x_data + b\n",
    "plt.scatter(x, y, marker=\"x\")\n",
    "\n",
    "\n",
    "#plt.plot([min(x_data), max(x_data)], [min(y_pred), max(y_pred)])\n",
    "\n",
    "for i in data:\n",
    "    plt.plot([i[0], i[0]], [i[1],  a * i[0] + b])\n",
    "\n",
    "plt.plot(x, y_pred)\n",
    "plt.show()"
   ]
  },
  {
   "cell_type": "code",
   "execution_count": null,
   "id": "collect-underground",
   "metadata": {},
   "outputs": [],
   "source": []
  }
 ],
 "metadata": {
  "kernelspec": {
   "display_name": "Python 3",
   "language": "python",
   "name": "python3"
  },
  "language_info": {
   "codemirror_mode": {
    "name": "ipython",
    "version": 3
   },
   "file_extension": ".py",
   "mimetype": "text/x-python",
   "name": "python",
   "nbconvert_exporter": "python",
   "pygments_lexer": "ipython3",
   "version": "3.6.5"
  }
 },
 "nbformat": 4,
 "nbformat_minor": 5
}
