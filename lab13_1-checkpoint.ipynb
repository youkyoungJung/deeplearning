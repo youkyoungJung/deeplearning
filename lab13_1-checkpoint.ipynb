{
 "cells": [
  {
   "cell_type": "code",
   "execution_count": 1,
   "metadata": {},
   "outputs": [
    {
     "ename": "FileNotFoundError",
     "evalue": "[Errno 2] No such file or directory: './dataset/ratings.csv'",
     "output_type": "error",
     "traceback": [
      "\u001b[1;31m---------------------------------------------------------------------------\u001b[0m",
      "\u001b[1;31mFileNotFoundError\u001b[0m                         Traceback (most recent call last)",
      "\u001b[1;32m<ipython-input-1-529965966ace>\u001b[0m in \u001b[0;36m<module>\u001b[1;34m\u001b[0m\n\u001b[0;32m      2\u001b[0m \u001b[1;32mimport\u001b[0m \u001b[0mmatplotlib\u001b[0m\u001b[1;33m.\u001b[0m\u001b[0mpyplot\u001b[0m \u001b[1;32mas\u001b[0m \u001b[0mplt\u001b[0m\u001b[1;33m\u001b[0m\u001b[1;33m\u001b[0m\u001b[0m\n\u001b[0;32m      3\u001b[0m \u001b[1;33m\u001b[0m\u001b[0m\n\u001b[1;32m----> 4\u001b[1;33m \u001b[0mdf1\u001b[0m \u001b[1;33m=\u001b[0m \u001b[0mpd\u001b[0m\u001b[1;33m.\u001b[0m\u001b[0mread_csv\u001b[0m\u001b[1;33m(\u001b[0m\u001b[1;34m'./dataset/ratings.csv'\u001b[0m\u001b[1;33m)\u001b[0m\u001b[1;33m\u001b[0m\u001b[1;33m\u001b[0m\u001b[0m\n\u001b[0m\u001b[0;32m      5\u001b[0m \u001b[0mprint\u001b[0m\u001b[1;33m(\u001b[0m \u001b[0mdf1\u001b[0m\u001b[1;33m.\u001b[0m\u001b[0mshape\u001b[0m \u001b[1;33m)\u001b[0m\u001b[1;33m\u001b[0m\u001b[1;33m\u001b[0m\u001b[0m\n\u001b[0;32m      6\u001b[0m \u001b[0mprint\u001b[0m\u001b[1;33m(\u001b[0m \u001b[0mdf1\u001b[0m\u001b[1;33m.\u001b[0m\u001b[0mhead\u001b[0m\u001b[1;33m(\u001b[0m\u001b[1;36m2\u001b[0m\u001b[1;33m)\u001b[0m \u001b[1;33m)\u001b[0m\u001b[1;33m\u001b[0m\u001b[1;33m\u001b[0m\u001b[0m\n",
      "\u001b[1;32m~\\Anaconda3\\envs\\tutorial\\lib\\site-packages\\pandas\\io\\parsers.py\u001b[0m in \u001b[0;36mread_csv\u001b[1;34m(filepath_or_buffer, sep, delimiter, header, names, index_col, usecols, squeeze, prefix, mangle_dupe_cols, dtype, engine, converters, true_values, false_values, skipinitialspace, skiprows, skipfooter, nrows, na_values, keep_default_na, na_filter, verbose, skip_blank_lines, parse_dates, infer_datetime_format, keep_date_col, date_parser, dayfirst, cache_dates, iterator, chunksize, compression, thousands, decimal, lineterminator, quotechar, quoting, doublequote, escapechar, comment, encoding, dialect, error_bad_lines, warn_bad_lines, delim_whitespace, low_memory, memory_map, float_precision)\u001b[0m\n\u001b[0;32m    686\u001b[0m     )\n\u001b[0;32m    687\u001b[0m \u001b[1;33m\u001b[0m\u001b[0m\n\u001b[1;32m--> 688\u001b[1;33m     \u001b[1;32mreturn\u001b[0m \u001b[0m_read\u001b[0m\u001b[1;33m(\u001b[0m\u001b[0mfilepath_or_buffer\u001b[0m\u001b[1;33m,\u001b[0m \u001b[0mkwds\u001b[0m\u001b[1;33m)\u001b[0m\u001b[1;33m\u001b[0m\u001b[1;33m\u001b[0m\u001b[0m\n\u001b[0m\u001b[0;32m    689\u001b[0m \u001b[1;33m\u001b[0m\u001b[0m\n\u001b[0;32m    690\u001b[0m \u001b[1;33m\u001b[0m\u001b[0m\n",
      "\u001b[1;32m~\\Anaconda3\\envs\\tutorial\\lib\\site-packages\\pandas\\io\\parsers.py\u001b[0m in \u001b[0;36m_read\u001b[1;34m(filepath_or_buffer, kwds)\u001b[0m\n\u001b[0;32m    452\u001b[0m \u001b[1;33m\u001b[0m\u001b[0m\n\u001b[0;32m    453\u001b[0m     \u001b[1;31m# Create the parser.\u001b[0m\u001b[1;33m\u001b[0m\u001b[1;33m\u001b[0m\u001b[1;33m\u001b[0m\u001b[0m\n\u001b[1;32m--> 454\u001b[1;33m     \u001b[0mparser\u001b[0m \u001b[1;33m=\u001b[0m \u001b[0mTextFileReader\u001b[0m\u001b[1;33m(\u001b[0m\u001b[0mfp_or_buf\u001b[0m\u001b[1;33m,\u001b[0m \u001b[1;33m**\u001b[0m\u001b[0mkwds\u001b[0m\u001b[1;33m)\u001b[0m\u001b[1;33m\u001b[0m\u001b[1;33m\u001b[0m\u001b[0m\n\u001b[0m\u001b[0;32m    455\u001b[0m \u001b[1;33m\u001b[0m\u001b[0m\n\u001b[0;32m    456\u001b[0m     \u001b[1;32mif\u001b[0m \u001b[0mchunksize\u001b[0m \u001b[1;32mor\u001b[0m \u001b[0miterator\u001b[0m\u001b[1;33m:\u001b[0m\u001b[1;33m\u001b[0m\u001b[1;33m\u001b[0m\u001b[0m\n",
      "\u001b[1;32m~\\Anaconda3\\envs\\tutorial\\lib\\site-packages\\pandas\\io\\parsers.py\u001b[0m in \u001b[0;36m__init__\u001b[1;34m(self, f, engine, **kwds)\u001b[0m\n\u001b[0;32m    946\u001b[0m             \u001b[0mself\u001b[0m\u001b[1;33m.\u001b[0m\u001b[0moptions\u001b[0m\u001b[1;33m[\u001b[0m\u001b[1;34m\"has_index_names\"\u001b[0m\u001b[1;33m]\u001b[0m \u001b[1;33m=\u001b[0m \u001b[0mkwds\u001b[0m\u001b[1;33m[\u001b[0m\u001b[1;34m\"has_index_names\"\u001b[0m\u001b[1;33m]\u001b[0m\u001b[1;33m\u001b[0m\u001b[1;33m\u001b[0m\u001b[0m\n\u001b[0;32m    947\u001b[0m \u001b[1;33m\u001b[0m\u001b[0m\n\u001b[1;32m--> 948\u001b[1;33m         \u001b[0mself\u001b[0m\u001b[1;33m.\u001b[0m\u001b[0m_make_engine\u001b[0m\u001b[1;33m(\u001b[0m\u001b[0mself\u001b[0m\u001b[1;33m.\u001b[0m\u001b[0mengine\u001b[0m\u001b[1;33m)\u001b[0m\u001b[1;33m\u001b[0m\u001b[1;33m\u001b[0m\u001b[0m\n\u001b[0m\u001b[0;32m    949\u001b[0m \u001b[1;33m\u001b[0m\u001b[0m\n\u001b[0;32m    950\u001b[0m     \u001b[1;32mdef\u001b[0m \u001b[0mclose\u001b[0m\u001b[1;33m(\u001b[0m\u001b[0mself\u001b[0m\u001b[1;33m)\u001b[0m\u001b[1;33m:\u001b[0m\u001b[1;33m\u001b[0m\u001b[1;33m\u001b[0m\u001b[0m\n",
      "\u001b[1;32m~\\Anaconda3\\envs\\tutorial\\lib\\site-packages\\pandas\\io\\parsers.py\u001b[0m in \u001b[0;36m_make_engine\u001b[1;34m(self, engine)\u001b[0m\n\u001b[0;32m   1178\u001b[0m     \u001b[1;32mdef\u001b[0m \u001b[0m_make_engine\u001b[0m\u001b[1;33m(\u001b[0m\u001b[0mself\u001b[0m\u001b[1;33m,\u001b[0m \u001b[0mengine\u001b[0m\u001b[1;33m=\u001b[0m\u001b[1;34m\"c\"\u001b[0m\u001b[1;33m)\u001b[0m\u001b[1;33m:\u001b[0m\u001b[1;33m\u001b[0m\u001b[1;33m\u001b[0m\u001b[0m\n\u001b[0;32m   1179\u001b[0m         \u001b[1;32mif\u001b[0m \u001b[0mengine\u001b[0m \u001b[1;33m==\u001b[0m \u001b[1;34m\"c\"\u001b[0m\u001b[1;33m:\u001b[0m\u001b[1;33m\u001b[0m\u001b[1;33m\u001b[0m\u001b[0m\n\u001b[1;32m-> 1180\u001b[1;33m             \u001b[0mself\u001b[0m\u001b[1;33m.\u001b[0m\u001b[0m_engine\u001b[0m \u001b[1;33m=\u001b[0m \u001b[0mCParserWrapper\u001b[0m\u001b[1;33m(\u001b[0m\u001b[0mself\u001b[0m\u001b[1;33m.\u001b[0m\u001b[0mf\u001b[0m\u001b[1;33m,\u001b[0m \u001b[1;33m**\u001b[0m\u001b[0mself\u001b[0m\u001b[1;33m.\u001b[0m\u001b[0moptions\u001b[0m\u001b[1;33m)\u001b[0m\u001b[1;33m\u001b[0m\u001b[1;33m\u001b[0m\u001b[0m\n\u001b[0m\u001b[0;32m   1181\u001b[0m         \u001b[1;32melse\u001b[0m\u001b[1;33m:\u001b[0m\u001b[1;33m\u001b[0m\u001b[1;33m\u001b[0m\u001b[0m\n\u001b[0;32m   1182\u001b[0m             \u001b[1;32mif\u001b[0m \u001b[0mengine\u001b[0m \u001b[1;33m==\u001b[0m \u001b[1;34m\"python\"\u001b[0m\u001b[1;33m:\u001b[0m\u001b[1;33m\u001b[0m\u001b[1;33m\u001b[0m\u001b[0m\n",
      "\u001b[1;32m~\\Anaconda3\\envs\\tutorial\\lib\\site-packages\\pandas\\io\\parsers.py\u001b[0m in \u001b[0;36m__init__\u001b[1;34m(self, src, **kwds)\u001b[0m\n\u001b[0;32m   2008\u001b[0m         \u001b[0mkwds\u001b[0m\u001b[1;33m[\u001b[0m\u001b[1;34m\"usecols\"\u001b[0m\u001b[1;33m]\u001b[0m \u001b[1;33m=\u001b[0m \u001b[0mself\u001b[0m\u001b[1;33m.\u001b[0m\u001b[0musecols\u001b[0m\u001b[1;33m\u001b[0m\u001b[1;33m\u001b[0m\u001b[0m\n\u001b[0;32m   2009\u001b[0m \u001b[1;33m\u001b[0m\u001b[0m\n\u001b[1;32m-> 2010\u001b[1;33m         \u001b[0mself\u001b[0m\u001b[1;33m.\u001b[0m\u001b[0m_reader\u001b[0m \u001b[1;33m=\u001b[0m \u001b[0mparsers\u001b[0m\u001b[1;33m.\u001b[0m\u001b[0mTextReader\u001b[0m\u001b[1;33m(\u001b[0m\u001b[0msrc\u001b[0m\u001b[1;33m,\u001b[0m \u001b[1;33m**\u001b[0m\u001b[0mkwds\u001b[0m\u001b[1;33m)\u001b[0m\u001b[1;33m\u001b[0m\u001b[1;33m\u001b[0m\u001b[0m\n\u001b[0m\u001b[0;32m   2011\u001b[0m         \u001b[0mself\u001b[0m\u001b[1;33m.\u001b[0m\u001b[0munnamed_cols\u001b[0m \u001b[1;33m=\u001b[0m \u001b[0mself\u001b[0m\u001b[1;33m.\u001b[0m\u001b[0m_reader\u001b[0m\u001b[1;33m.\u001b[0m\u001b[0munnamed_cols\u001b[0m\u001b[1;33m\u001b[0m\u001b[1;33m\u001b[0m\u001b[0m\n\u001b[0;32m   2012\u001b[0m \u001b[1;33m\u001b[0m\u001b[0m\n",
      "\u001b[1;32mpandas\\_libs\\parsers.pyx\u001b[0m in \u001b[0;36mpandas._libs.parsers.TextReader.__cinit__\u001b[1;34m()\u001b[0m\n",
      "\u001b[1;32mpandas\\_libs\\parsers.pyx\u001b[0m in \u001b[0;36mpandas._libs.parsers.TextReader._setup_parser_source\u001b[1;34m()\u001b[0m\n",
      "\u001b[1;31mFileNotFoundError\u001b[0m: [Errno 2] No such file or directory: './dataset/ratings.csv'"
     ]
    }
   ],
   "source": [
    "import pandas as pd\n",
    "import matplotlib.pyplot as plt\n",
    "\n",
    "df1 = pd.read_csv('C://Users/yyk834/Downloads/080228-master/080228-master/deeplearning/dataset/ratings.csv')\n",
    "print( df1.shape )\n",
    "print( df1.head(2) )\n",
    "\n",
    "df2 = pd.read_csv('C://Users/yyk834/Downloads/080228-master/080228-master/deeplearning/dataset/movies.csv')\n",
    "print( df2.shape )\n",
    "print( df2.head(2) )"
   ]
  },
  {
   "cell_type": "code",
   "execution_count": 28,
   "metadata": {},
   "outputs": [
    {
     "name": "stdout",
     "output_type": "stream",
     "text": [
      "(100004, 6)\n",
      "   userId  movieId  rating   timestamp                   title genres\n",
      "0       1       31     2.5  1260759144  Dangerous Minds (1995)  Drama\n",
      "1       7       31     3.0   851868750  Dangerous Minds (1995)  Drama\n"
     ]
    }
   ],
   "source": [
    "df4 = pd.merge(df1, df2, on='movieId')\n",
    "print( df4.shape )\n",
    "print( df4.head(2) )"
   ]
  },
  {
   "cell_type": "code",
   "execution_count": 27,
   "metadata": {},
   "outputs": [
    {
     "name": "stdout",
     "output_type": "stream",
     "text": [
      "(9064, 671)\n",
      "userId                                   1    2    3    4    5    6    7    \\\n",
      "title                                                                        \n",
      "\"Great Performances\" Cats (1998)         NaN  NaN  NaN  NaN  NaN  NaN  NaN   \n",
      "$9.99 (2008)                             NaN  NaN  NaN  NaN  NaN  NaN  NaN   \n",
      "'Hellboy': The Seeds of Creation (2004)  NaN  NaN  NaN  NaN  NaN  NaN  NaN   \n",
      "\n",
      "userId                                   8    9    10   ...  662  663  664  \\\n",
      "title                                                   ...                  \n",
      "\"Great Performances\" Cats (1998)         NaN  NaN  NaN  ...  NaN  NaN  NaN   \n",
      "$9.99 (2008)                             NaN  NaN  NaN  ...  NaN  NaN  NaN   \n",
      "'Hellboy': The Seeds of Creation (2004)  NaN  NaN  NaN  ...  NaN  NaN  NaN   \n",
      "\n",
      "userId                                   665  666  667  668  669  670  671  \n",
      "title                                                                       \n",
      "\"Great Performances\" Cats (1998)         NaN  NaN  NaN  NaN  NaN  NaN  NaN  \n",
      "$9.99 (2008)                             NaN  NaN  NaN  NaN  NaN  NaN  NaN  \n",
      "'Hellboy': The Seeds of Creation (2004)  NaN  NaN  NaN  NaN  NaN  NaN  NaN  \n",
      "\n",
      "[3 rows x 671 columns]\n"
     ]
    }
   ],
   "source": [
    "movie_user_rating = df4.pivot_table('rating', index='title', columns='userId')\n",
    "print( movie_user_rating.shape )\n",
    "print( movie_user_rating.head(3) )"
   ]
  },
  {
   "cell_type": "code",
   "execution_count": 21,
   "metadata": {},
   "outputs": [
    {
     "name": "stdout",
     "output_type": "stream",
     "text": [
      "userId                                   1    2    3    4    5    6    7    \\\n",
      "title                                                                        \n",
      "\"Great Performances\" Cats (1998)         0.0  0.0  0.0  0.0  0.0  0.0  0.0   \n",
      "$9.99 (2008)                             0.0  0.0  0.0  0.0  0.0  0.0  0.0   \n",
      "'Hellboy': The Seeds of Creation (2004)  0.0  0.0  0.0  0.0  0.0  0.0  0.0   \n",
      "\n",
      "userId                                   8    9    10   ...  662  663  664  \\\n",
      "title                                                   ...                  \n",
      "\"Great Performances\" Cats (1998)         0.0  0.0  0.0  ...  0.0  0.0  0.0   \n",
      "$9.99 (2008)                             0.0  0.0  0.0  ...  0.0  0.0  0.0   \n",
      "'Hellboy': The Seeds of Creation (2004)  0.0  0.0  0.0  ...  0.0  0.0  0.0   \n",
      "\n",
      "userId                                   665  666  667  668  669  670  671  \n",
      "title                                                                       \n",
      "\"Great Performances\" Cats (1998)         0.0  0.0  0.0  0.0  0.0  0.0  0.0  \n",
      "$9.99 (2008)                             0.0  0.0  0.0  0.0  0.0  0.0  0.0  \n",
      "'Hellboy': The Seeds of Creation (2004)  0.0  0.0  0.0  0.0  0.0  0.0  0.0  \n",
      "\n",
      "[3 rows x 671 columns]\n"
     ]
    }
   ],
   "source": [
    "new_rating = movie_user_rating.fillna(0)\n",
    "print( new_rating.head(3) )"
   ]
  },
  {
   "cell_type": "code",
   "execution_count": 22,
   "metadata": {},
   "outputs": [
    {
     "name": "stdout",
     "output_type": "stream",
     "text": [
      "[[1.         0.         0.         ... 0.         0.         0.        ]\n",
      " [0.         1.         0.         ... 0.05821787 0.         0.        ]\n",
      " [0.         0.         1.         ... 0.         0.         0.        ]\n",
      " ...\n",
      " [0.         0.05821787 0.         ... 1.         0.         0.        ]\n",
      " [0.         0.         0.         ... 0.         1.         0.        ]\n",
      " [0.         0.         0.         ... 0.         0.         1.        ]]\n"
     ]
    }
   ],
   "source": [
    "from sklearn.metrics.pairwise import cosine_similarity\n",
    "\n",
    "item_collabor = cosine_similarity( new_rating )\n",
    "print( item_collabor )"
   ]
  },
  {
   "cell_type": "code",
   "execution_count": 23,
   "metadata": {},
   "outputs": [
    {
     "name": "stdout",
     "output_type": "stream",
     "text": [
      "title                                    \"Great Performances\" Cats (1998)  \\\n",
      "title                                                                       \n",
      "\"Great Performances\" Cats (1998)                                 1.000000   \n",
      "$9.99 (2008)                                                     0.000000   \n",
      "'Hellboy': The Seeds of Creation (2004)                          0.000000   \n",
      "'Neath the Arizona Skies (1934)                                  0.164399   \n",
      "'Round Midnight (1986)                                           0.020391   \n",
      "\n",
      "title                                    $9.99 (2008)  \\\n",
      "title                                                   \n",
      "\"Great Performances\" Cats (1998)                  0.0   \n",
      "$9.99 (2008)                                      1.0   \n",
      "'Hellboy': The Seeds of Creation (2004)           0.0   \n",
      "'Neath the Arizona Skies (1934)                   0.0   \n",
      "'Round Midnight (1986)                            0.0   \n",
      "\n",
      "title                                    'Hellboy': The Seeds of Creation (2004)  \\\n",
      "title                                                                              \n",
      "\"Great Performances\" Cats (1998)                                             0.0   \n",
      "$9.99 (2008)                                                                 0.0   \n",
      "'Hellboy': The Seeds of Creation (2004)                                      1.0   \n",
      "'Neath the Arizona Skies (1934)                                              0.0   \n",
      "'Round Midnight (1986)                                                       0.0   \n",
      "\n",
      "title                                    'Neath the Arizona Skies (1934)  \\\n",
      "title                                                                      \n",
      "\"Great Performances\" Cats (1998)                                0.164399   \n",
      "$9.99 (2008)                                                    0.000000   \n",
      "'Hellboy': The Seeds of Creation (2004)                         0.000000   \n",
      "'Neath the Arizona Skies (1934)                                 1.000000   \n",
      "'Round Midnight (1986)                                          0.124035   \n",
      "\n",
      "title                                    'Round Midnight (1986)  \\\n",
      "title                                                             \n",
      "\"Great Performances\" Cats (1998)                       0.020391   \n",
      "$9.99 (2008)                                           0.000000   \n",
      "'Hellboy': The Seeds of Creation (2004)                0.000000   \n",
      "'Neath the Arizona Skies (1934)                        0.124035   \n",
      "'Round Midnight (1986)                                 1.000000   \n",
      "\n",
      "title                                    'Salem's Lot (2004)  \\\n",
      "title                                                          \n",
      "\"Great Performances\" Cats (1998)                         0.0   \n",
      "$9.99 (2008)                                             0.0   \n",
      "'Hellboy': The Seeds of Creation (2004)                  1.0   \n",
      "'Neath the Arizona Skies (1934)                          0.0   \n",
      "'Round Midnight (1986)                                   0.0   \n",
      "\n",
      "title                                    'Til There Was You (1997)  \\\n",
      "title                                                                \n",
      "\"Great Performances\" Cats (1998)                          0.014046   \n",
      "$9.99 (2008)                                              0.000000   \n",
      "'Hellboy': The Seeds of Creation (2004)                   0.000000   \n",
      "'Neath the Arizona Skies (1934)                           0.085436   \n",
      "'Round Midnight (1986)                                    0.010597   \n",
      "\n",
      "title                                    'burbs, The (1989)  \\\n",
      "title                                                         \n",
      "\"Great Performances\" Cats (1998)                   0.000000   \n",
      "$9.99 (2008)                                       0.079474   \n",
      "'Hellboy': The Seeds of Creation (2004)            0.217357   \n",
      "'Neath the Arizona Skies (1934)                    0.000000   \n",
      "'Round Midnight (1986)                             0.143786   \n",
      "\n",
      "title                                    'night Mother (1986)  \\\n",
      "title                                                           \n",
      "\"Great Performances\" Cats (1998)                          0.0   \n",
      "$9.99 (2008)                                              0.0   \n",
      "'Hellboy': The Seeds of Creation (2004)                   0.0   \n",
      "'Neath the Arizona Skies (1934)                           0.0   \n",
      "'Round Midnight (1986)                                    0.0   \n",
      "\n",
      "title                                    (500) Days of Summer (2009)  ...  \\\n",
      "title                                                                 ...   \n",
      "\"Great Performances\" Cats (1998)                            0.003166  ...   \n",
      "$9.99 (2008)                                                0.156330  ...   \n",
      "'Hellboy': The Seeds of Creation (2004)                     0.000000  ...   \n",
      "'Neath the Arizona Skies (1934)                             0.019259  ...   \n",
      "'Round Midnight (1986)                                      0.136163  ...   \n",
      "\n",
      "title                                    Zulu (1964)  Zulu (2013)  \\\n",
      "title                                                               \n",
      "\"Great Performances\" Cats (1998)                 0.0          0.0   \n",
      "$9.99 (2008)                                     0.0          0.0   \n",
      "'Hellboy': The Seeds of Creation (2004)          0.0          0.0   \n",
      "'Neath the Arizona Skies (1934)                  0.0          0.0   \n",
      "'Round Midnight (1986)                           0.0          0.0   \n",
      "\n",
      "title                                    [REC] (2007)  eXistenZ (1999)  \\\n",
      "title                                                                    \n",
      "\"Great Performances\" Cats (1998)                  0.0         0.000000   \n",
      "$9.99 (2008)                                      0.0         0.000000   \n",
      "'Hellboy': The Seeds of Creation (2004)           0.0         0.000000   \n",
      "'Neath the Arizona Skies (1934)                   0.0         0.000000   \n",
      "'Round Midnight (1986)                            0.0         0.121567   \n",
      "\n",
      "title                                    loudQUIETloud: A Film About the Pixies (2006)  \\\n",
      "title                                                                                    \n",
      "\"Great Performances\" Cats (1998)                                                   0.0   \n",
      "$9.99 (2008)                                                                       0.0   \n",
      "'Hellboy': The Seeds of Creation (2004)                                            0.0   \n",
      "'Neath the Arizona Skies (1934)                                                    0.0   \n",
      "'Round Midnight (1986)                                                             0.0   \n",
      "\n",
      "title                                    xXx (2002)  \\\n",
      "title                                                 \n",
      "\"Great Performances\" Cats (1998)           0.000000   \n",
      "$9.99 (2008)                               0.013899   \n",
      "'Hellboy': The Seeds of Creation (2004)    0.000000   \n",
      "'Neath the Arizona Skies (1934)            0.000000   \n",
      "'Round Midnight (1986)                     0.000000   \n",
      "\n",
      "title                                    xXx: State of the Union (2005)  \\\n",
      "title                                                                     \n",
      "\"Great Performances\" Cats (1998)                                    0.0   \n",
      "$9.99 (2008)                                                        0.0   \n",
      "'Hellboy': The Seeds of Creation (2004)                             0.0   \n",
      "'Neath the Arizona Skies (1934)                                     0.0   \n",
      "'Round Midnight (1986)                                              0.0   \n",
      "\n",
      "title                                    ¡Three Amigos! (1986)  \\\n",
      "title                                                            \n",
      "\"Great Performances\" Cats (1998)                      0.000000   \n",
      "$9.99 (2008)                                          0.058218   \n",
      "'Hellboy': The Seeds of Creation (2004)               0.000000   \n",
      "'Neath the Arizona Skies (1934)                       0.000000   \n",
      "'Round Midnight (1986)                                0.000000   \n",
      "\n",
      "title                                    À nous la liberté (Freedom for Us) (1931)  \\\n",
      "title                                                                                \n",
      "\"Great Performances\" Cats (1998)                                               0.0   \n",
      "$9.99 (2008)                                                                   0.0   \n",
      "'Hellboy': The Seeds of Creation (2004)                                        0.0   \n",
      "'Neath the Arizona Skies (1934)                                                0.0   \n",
      "'Round Midnight (1986)                                                         0.0   \n",
      "\n",
      "title                                    İtirazım Var (2014)  \n",
      "title                                                         \n",
      "\"Great Performances\" Cats (1998)                         0.0  \n",
      "$9.99 (2008)                                             0.0  \n",
      "'Hellboy': The Seeds of Creation (2004)                  0.0  \n",
      "'Neath the Arizona Skies (1934)                          0.0  \n",
      "'Round Midnight (1986)                                   0.0  \n",
      "\n",
      "[5 rows x 9064 columns]\n"
     ]
    }
   ],
   "source": [
    "similarity_matrix = pd.DataFrame(data=item_collabor, index=new_rating.index, columns=new_rating.index)\n",
    "print( similarity_matrix.head() )"
   ]
  },
  {
   "cell_type": "code",
   "execution_count": 24,
   "metadata": {},
   "outputs": [
    {
     "name": "stdout",
     "output_type": "stream",
     "text": [
      "title\n",
      "Godfather, The (1972)                        1.000000\n",
      "Godfather: Part II, The (1974)               0.773685\n",
      "Goodfellas (1990)                            0.620349\n",
      "One Flew Over the Cuckoo's Nest (1975)       0.568244\n",
      "American Beauty (1999)                       0.557997\n",
      "Star Wars: Episode IV - A New Hope (1977)    0.546750\n",
      "Name: Godfather, The (1972), dtype: float64\n"
     ]
    }
   ],
   "source": [
    "def get_item_collabor(title):\n",
    "    return similarity_matrix[title].sort_values(ascending=False)[:6]\n",
    "\n",
    "print( get_item_collabor('Godfather, The (1972)') )"
   ]
  },
  {
   "cell_type": "code",
   "execution_count": null,
   "metadata": {},
   "outputs": [],
   "source": []
  }
 ],
 "metadata": {
  "kernelspec": {
   "display_name": "Python 3",
   "language": "python",
   "name": "python3"
  },
  "language_info": {
   "codemirror_mode": {
    "name": "ipython",
    "version": 3
   },
   "file_extension": ".py",
   "mimetype": "text/x-python",
   "name": "python",
   "nbconvert_exporter": "python",
   "pygments_lexer": "ipython3",
   "version": "3.6.13"
  }
 },
 "nbformat": 4,
 "nbformat_minor": 4
}
