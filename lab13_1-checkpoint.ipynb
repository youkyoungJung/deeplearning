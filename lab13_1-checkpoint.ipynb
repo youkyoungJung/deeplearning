{
 "cells": [
  {
   "cell_type": "code",
   "execution_count": 25,
   "metadata": {},
   "outputs": [
    {
     "name": "stdout",
     "output_type": "stream",
     "text": [
      "(100004, 4)\n",
      "   userId  movieId  rating   timestamp\n",
      "0       1       31     2.5  1260759144\n",
      "1       1     1029     3.0  1260759179\n",
      "(9125, 3)\n",
      "   movieId             title                                       genres\n",
      "0        1  Toy Story (1995)  Adventure|Animation|Children|Comedy|Fantasy\n",
      "1        2    Jumanji (1995)                   Adventure|Children|Fantasy\n"
     ]
    }
   ],
   "source": [
    "import pandas as pd\n",
    "import matplotlib.pyplot as plt\n",
    "\n",
    "df1 = pd.read_csv('./dataset/ratings.csv')\n",
    "print( df1.shape )\n",
    "print( df1.head(2) )\n",
    "\n",
    "df2 = pd.read_csv('./dataset/movies.csv')\n",
    "print( df2.shape )\n",
    "print( df2.head(2) )"
   ]
  },
  {
   "cell_type": "code",
   "execution_count": 28,
   "metadata": {},
   "outputs": [
    {
     "name": "stdout",
     "output_type": "stream",
     "text": [
      "(100004, 6)\n",
      "   userId  movieId  rating   timestamp                   title genres\n",
      "0       1       31     2.5  1260759144  Dangerous Minds (1995)  Drama\n",
      "1       7       31     3.0   851868750  Dangerous Minds (1995)  Drama\n"
     ]
    }
   ],
   "source": [
    "df4 = pd.merge(df1, df2, on='movieId')\n",
    "print( df4.shape )\n",
    "print( df4.head(2) )"
   ]
  },
  {
   "cell_type": "code",
   "execution_count": 27,
   "metadata": {},
   "outputs": [
    {
     "name": "stdout",
     "output_type": "stream",
     "text": [
      "(9064, 671)\n",
      "userId                                   1    2    3    4    5    6    7    \\\n",
      "title                                                                        \n",
      "\"Great Performances\" Cats (1998)         NaN  NaN  NaN  NaN  NaN  NaN  NaN   \n",
      "$9.99 (2008)                             NaN  NaN  NaN  NaN  NaN  NaN  NaN   \n",
      "'Hellboy': The Seeds of Creation (2004)  NaN  NaN  NaN  NaN  NaN  NaN  NaN   \n",
      "\n",
      "userId                                   8    9    10   ...  662  663  664  \\\n",
      "title                                                   ...                  \n",
      "\"Great Performances\" Cats (1998)         NaN  NaN  NaN  ...  NaN  NaN  NaN   \n",
      "$9.99 (2008)                             NaN  NaN  NaN  ...  NaN  NaN  NaN   \n",
      "'Hellboy': The Seeds of Creation (2004)  NaN  NaN  NaN  ...  NaN  NaN  NaN   \n",
      "\n",
      "userId                                   665  666  667  668  669  670  671  \n",
      "title                                                                       \n",
      "\"Great Performances\" Cats (1998)         NaN  NaN  NaN  NaN  NaN  NaN  NaN  \n",
      "$9.99 (2008)                             NaN  NaN  NaN  NaN  NaN  NaN  NaN  \n",
      "'Hellboy': The Seeds of Creation (2004)  NaN  NaN  NaN  NaN  NaN  NaN  NaN  \n",
      "\n",
      "[3 rows x 671 columns]\n"
     ]
    }
   ],
   "source": [
    "movie_user_rating = df4.pivot_table('rating', index='title', columns='userId')\n",
    "print( movie_user_rating.shape )\n",
    "print( movie_user_rating.head(3) )"
   ]
  },
  {
   "cell_type": "code",
   "execution_count": 21,
   "metadata": {},
   "outputs": [
    {
     "name": "stdout",
     "output_type": "stream",
     "text": [
      "userId                                   1    2    3    4    5    6    7    \\\n",
      "title                                                                        \n",
      "\"Great Performances\" Cats (1998)         0.0  0.0  0.0  0.0  0.0  0.0  0.0   \n",
      "$9.99 (2008)                             0.0  0.0  0.0  0.0  0.0  0.0  0.0   \n",
      "'Hellboy': The Seeds of Creation (2004)  0.0  0.0  0.0  0.0  0.0  0.0  0.0   \n",
      "\n",
      "userId                                   8    9    10   ...  662  663  664  \\\n",
      "title                                                   ...                  \n",
      "\"Great Performances\" Cats (1998)         0.0  0.0  0.0  ...  0.0  0.0  0.0   \n",
      "$9.99 (2008)                             0.0  0.0  0.0  ...  0.0  0.0  0.0   \n",
      "'Hellboy': The Seeds of Creation (2004)  0.0  0.0  0.0  ...  0.0  0.0  0.0   \n",
      "\n",
      "userId                                   665  666  667  668  669  670  671  \n",
      "title                                                                       \n",
      "\"Great Performances\" Cats (1998)         0.0  0.0  0.0  0.0  0.0  0.0  0.0  \n",
      "$9.99 (2008)                             0.0  0.0  0.0  0.0  0.0  0.0  0.0  \n",
      "'Hellboy': The Seeds of Creation (2004)  0.0  0.0  0.0  0.0  0.0  0.0  0.0  \n",
      "\n",
      "[3 rows x 671 columns]\n"
     ]
    }
   ],
   "source": [
    "new_rating = movie_user_rating.fillna(0)\n",
    "print( new_rating.head(3) )"
   ]
  },
  {
   "cell_type": "code",
   "execution_count": 22,
   "metadata": {},
   "outputs": [
    {
     "name": "stdout",
     "output_type": "stream",
     "text": [
      "[[1.         0.         0.         ... 0.         0.         0.        ]\n",
      " [0.         1.         0.         ... 0.05821787 0.         0.        ]\n",
      " [0.         0.         1.         ... 0.         0.         0.        ]\n",
      " ...\n",
      " [0.         0.05821787 0.         ... 1.         0.         0.        ]\n",
      " [0.         0.         0.         ... 0.         1.         0.        ]\n",
      " [0.         0.         0.         ... 0.         0.         1.        ]]\n"
     ]
    }
   ],
   "source": [
    "from sklearn.metrics.pairwise import cosine_similarity\n",
    "\n",
    "item_collabor = cosine_similarity( new_rating )\n",
    "print( item_collabor )"
   ]
  },
  {
   "cell_type": "code",
   "execution_count": 23,
   "metadata": {},
   "outputs": [
    {
     "name": "stdout",
     "output_type": "stream",
     "text": [
      "title                                    \"Great Performances\" Cats (1998)  \\\n",
      "title                                                                       \n",
      "\"Great Performances\" Cats (1998)                                 1.000000   \n",
      "$9.99 (2008)                                                     0.000000   \n",
      "'Hellboy': The Seeds of Creation (2004)                          0.000000   \n",
      "'Neath the Arizona Skies (1934)                                  0.164399   \n",
      "'Round Midnight (1986)                                           0.020391   \n",
      "\n",
      "title                                    $9.99 (2008)  \\\n",
      "title                                                   \n",
      "\"Great Performances\" Cats (1998)                  0.0   \n",
      "$9.99 (2008)                                      1.0   \n",
      "'Hellboy': The Seeds of Creation (2004)           0.0   \n",
      "'Neath the Arizona Skies (1934)                   0.0   \n",
      "'Round Midnight (1986)                            0.0   \n",
      "\n",
      "title                                    'Hellboy': The Seeds of Creation (2004)  \\\n",
      "title                                                                              \n",
      "\"Great Performances\" Cats (1998)                                             0.0   \n",
      "$9.99 (2008)                                                                 0.0   \n",
      "'Hellboy': The Seeds of Creation (2004)                                      1.0   \n",
      "'Neath the Arizona Skies (1934)                                              0.0   \n",
      "'Round Midnight (1986)                                                       0.0   \n",
      "\n",
      "title                                    'Neath the Arizona Skies (1934)  \\\n",
      "title                                                                      \n",
      "\"Great Performances\" Cats (1998)                                0.164399   \n",
      "$9.99 (2008)                                                    0.000000   \n",
      "'Hellboy': The Seeds of Creation (2004)                         0.000000   \n",
      "'Neath the Arizona Skies (1934)                                 1.000000   \n",
      "'Round Midnight (1986)                                          0.124035   \n",
      "\n",
      "title                                    'Round Midnight (1986)  \\\n",
      "title                                                             \n",
      "\"Great Performances\" Cats (1998)                       0.020391   \n",
      "$9.99 (2008)                                           0.000000   \n",
      "'Hellboy': The Seeds of Creation (2004)                0.000000   \n",
      "'Neath the Arizona Skies (1934)                        0.124035   \n",
      "'Round Midnight (1986)                                 1.000000   \n",
      "\n",
      "title                                    'Salem's Lot (2004)  \\\n",
      "title                                                          \n",
      "\"Great Performances\" Cats (1998)                         0.0   \n",
      "$9.99 (2008)                                             0.0   \n",
      "'Hellboy': The Seeds of Creation (2004)                  1.0   \n",
      "'Neath the Arizona Skies (1934)                          0.0   \n",
      "'Round Midnight (1986)                                   0.0   \n",
      "\n",
      "title                                    'Til There Was You (1997)  \\\n",
      "title                                                                \n",
      "\"Great Performances\" Cats (1998)                          0.014046   \n",
      "$9.99 (2008)                                              0.000000   \n",
      "'Hellboy': The Seeds of Creation (2004)                   0.000000   \n",
      "'Neath the Arizona Skies (1934)                           0.085436   \n",
      "'Round Midnight (1986)                                    0.010597   \n",
      "\n",
      "title                                    'burbs, The (1989)  \\\n",
      "title                                                         \n",
      "\"Great Performances\" Cats (1998)                   0.000000   \n",
      "$9.99 (2008)                                       0.079474   \n",
      "'Hellboy': The Seeds of Creation (2004)            0.217357   \n",
      "'Neath the Arizona Skies (1934)                    0.000000   \n",
      "'Round Midnight (1986)                             0.143786   \n",
      "\n",
      "title                                    'night Mother (1986)  \\\n",
      "title                                                           \n",
      "\"Great Performances\" Cats (1998)                          0.0   \n",
      "$9.99 (2008)                                              0.0   \n",
      "'Hellboy': The Seeds of Creation (2004)                   0.0   \n",
      "'Neath the Arizona Skies (1934)                           0.0   \n",
      "'Round Midnight (1986)                                    0.0   \n",
      "\n",
      "title                                    (500) Days of Summer (2009)  ...  \\\n",
      "title                                                                 ...   \n",
      "\"Great Performances\" Cats (1998)                            0.003166  ...   \n",
      "$9.99 (2008)                                                0.156330  ...   \n",
      "'Hellboy': The Seeds of Creation (2004)                     0.000000  ...   \n",
      "'Neath the Arizona Skies (1934)                             0.019259  ...   \n",
      "'Round Midnight (1986)                                      0.136163  ...   \n",
      "\n",
      "title                                    Zulu (1964)  Zulu (2013)  \\\n",
      "title                                                               \n",
      "\"Great Performances\" Cats (1998)                 0.0          0.0   \n",
      "$9.99 (2008)                                     0.0          0.0   \n",
      "'Hellboy': The Seeds of Creation (2004)          0.0          0.0   \n",
      "'Neath the Arizona Skies (1934)                  0.0          0.0   \n",
      "'Round Midnight (1986)                           0.0          0.0   \n",
      "\n",
      "title                                    [REC] (2007)  eXistenZ (1999)  \\\n",
      "title                                                                    \n",
      "\"Great Performances\" Cats (1998)                  0.0         0.000000   \n",
      "$9.99 (2008)                                      0.0         0.000000   \n",
      "'Hellboy': The Seeds of Creation (2004)           0.0         0.000000   \n",
      "'Neath the Arizona Skies (1934)                   0.0         0.000000   \n",
      "'Round Midnight (1986)                            0.0         0.121567   \n",
      "\n",
      "title                                    loudQUIETloud: A Film About the Pixies (2006)  \\\n",
      "title                                                                                    \n",
      "\"Great Performances\" Cats (1998)                                                   0.0   \n",
      "$9.99 (2008)                                                                       0.0   \n",
      "'Hellboy': The Seeds of Creation (2004)                                            0.0   \n",
      "'Neath the Arizona Skies (1934)                                                    0.0   \n",
      "'Round Midnight (1986)                                                             0.0   \n",
      "\n",
      "title                                    xXx (2002)  \\\n",
      "title                                                 \n",
      "\"Great Performances\" Cats (1998)           0.000000   \n",
      "$9.99 (2008)                               0.013899   \n",
      "'Hellboy': The Seeds of Creation (2004)    0.000000   \n",
      "'Neath the Arizona Skies (1934)            0.000000   \n",
      "'Round Midnight (1986)                     0.000000   \n",
      "\n",
      "title                                    xXx: State of the Union (2005)  \\\n",
      "title                                                                     \n",
      "\"Great Performances\" Cats (1998)                                    0.0   \n",
      "$9.99 (2008)                                                        0.0   \n",
      "'Hellboy': The Seeds of Creation (2004)                             0.0   \n",
      "'Neath the Arizona Skies (1934)                                     0.0   \n",
      "'Round Midnight (1986)                                              0.0   \n",
      "\n",
      "title                                    ¡Three Amigos! (1986)  \\\n",
      "title                                                            \n",
      "\"Great Performances\" Cats (1998)                      0.000000   \n",
      "$9.99 (2008)                                          0.058218   \n",
      "'Hellboy': The Seeds of Creation (2004)               0.000000   \n",
      "'Neath the Arizona Skies (1934)                       0.000000   \n",
      "'Round Midnight (1986)                                0.000000   \n",
      "\n",
      "title                                    À nous la liberté (Freedom for Us) (1931)  \\\n",
      "title                                                                                \n",
      "\"Great Performances\" Cats (1998)                                               0.0   \n",
      "$9.99 (2008)                                                                   0.0   \n",
      "'Hellboy': The Seeds of Creation (2004)                                        0.0   \n",
      "'Neath the Arizona Skies (1934)                                                0.0   \n",
      "'Round Midnight (1986)                                                         0.0   \n",
      "\n",
      "title                                    İtirazım Var (2014)  \n",
      "title                                                         \n",
      "\"Great Performances\" Cats (1998)                         0.0  \n",
      "$9.99 (2008)                                             0.0  \n",
      "'Hellboy': The Seeds of Creation (2004)                  0.0  \n",
      "'Neath the Arizona Skies (1934)                          0.0  \n",
      "'Round Midnight (1986)                                   0.0  \n",
      "\n",
      "[5 rows x 9064 columns]\n"
     ]
    }
   ],
   "source": [
    "similarity_matrix = pd.DataFrame(data=item_collabor, index=new_rating.index, columns=new_rating.index)\n",
    "print( similarity_matrix.head() )"
   ]
  },
  {
   "cell_type": "code",
   "execution_count": 24,
   "metadata": {},
   "outputs": [
    {
     "name": "stdout",
     "output_type": "stream",
     "text": [
      "title\n",
      "Godfather, The (1972)                        1.000000\n",
      "Godfather: Part II, The (1974)               0.773685\n",
      "Goodfellas (1990)                            0.620349\n",
      "One Flew Over the Cuckoo's Nest (1975)       0.568244\n",
      "American Beauty (1999)                       0.557997\n",
      "Star Wars: Episode IV - A New Hope (1977)    0.546750\n",
      "Name: Godfather, The (1972), dtype: float64\n"
     ]
    }
   ],
   "source": [
    "def get_item_collabor(title):\n",
    "    return similarity_matrix[title].sort_values(ascending=False)[:6]\n",
    "\n",
    "print( get_item_collabor('Godfather, The (1972)') )"
   ]
  },
  {
   "cell_type": "code",
   "execution_count": null,
   "metadata": {},
   "outputs": [],
   "source": []
  }
 ],
 "metadata": {
  "kernelspec": {
   "display_name": "Python 3",
   "language": "python",
   "name": "python3"
  },
  "language_info": {
   "codemirror_mode": {
    "name": "ipython",
    "version": 3
   },
   "file_extension": ".py",
   "mimetype": "text/x-python",
   "name": "python",
   "nbconvert_exporter": "python",
   "pygments_lexer": "ipython3",
   "version": "3.6.13"
  }
 },
 "nbformat": 4,
 "nbformat_minor": 4
}
