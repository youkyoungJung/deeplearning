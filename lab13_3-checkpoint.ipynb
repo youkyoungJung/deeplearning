{
 "cells": [
  {
   "cell_type": "code",
   "execution_count": 6,
   "id": "11356371",
   "metadata": {},
   "outputs": [
    {
     "name": "stderr",
     "output_type": "stream",
     "text": [
      "Using TensorFlow backend.\n",
      "C:\\Users\\yyk834\\Anaconda3\\envs\\tutorial\\lib\\site-packages\\tensorflow_core\\python\\framework\\indexed_slices.py:424: UserWarning: Converting sparse IndexedSlices to a dense Tensor of unknown shape. This may consume a large amount of memory.\n",
      "  \"Converting sparse IndexedSlices to a dense Tensor of unknown shape. \"\n"
     ]
    },
    {
     "name": "stdout",
     "output_type": "stream",
     "text": [
      "23413\n"
     ]
    }
   ],
   "source": [
    "import pickle\n",
    "from keras.models import Sequential\n",
    "from keras.models import load_model\n",
    "\n",
    "model = load_model('./model/lab11-2-model.hdf5')\n",
    "\n",
    "#load\n",
    "with open('tokenizer.pickle', 'rb')as handle:\n",
    "    tokenizer = pickle.load(handle)\n",
    "\n",
    "word_size = len(tokenizer.word_index)\n",
    "print(word_size)"
   ]
  },
  {
   "cell_type": "code",
   "execution_count": 56,
   "id": "46b030f4",
   "metadata": {},
   "outputs": [],
   "source": [
    "import pandas as pd\n",
    "import numpy as np\n",
    "import tensorflow as tf\n",
    "from tensorflow.keras.preprocessing.sequence import pad_sequences\n",
    "\n",
    "\n",
    "# seed 값 설정\n",
    "seed = 0\n",
    "np.random.seed(seed)\n",
    "tf.random.set_seed(3)\n",
    "\n",
    "#파일 읽기\n",
    "df1 = pd.read_csv('../study/dataset/train_SectionDataset.csv')\n",
    "df2 = pd.read_csv('../study/dataset/test_SectionDataset.csv')\n",
    "#df3 = df1.append(df2)\n",
    "df4 = pd.concat([df1,df2], axis=0, ignore_index=True)\n",
    "#print(df4)"
   ]
  },
  {
   "cell_type": "code",
   "execution_count": 8,
   "id": "20a5635c",
   "metadata": {},
   "outputs": [
    {
     "name": "stdout",
     "output_type": "stream",
     "text": [
      "첫번째 학습셋 입력:  유시민 검찰도 사법도 썩었지 vs 진중권 유시민 망상 대중은 현실로 믿어\n",
      "첫번째 학습셋 토큰 결과:  [243, 7346, 7347, 7348, 123, 418, 243, 7349, 7350, 4369, 4370]\n",
      "첫번째 테스트셋 토큰 결과:  [3143, 22928, 1073, 22929, 22930, 22931, 22932]\n",
      "학습셋 첫번째 패딩토큰:  [   0    0    0    0    0    0    0  243 7346 7347 7348  123  418  243\n",
      " 7349 7350 4369 4370]\n",
      "테스트셋 첫번쨰 패딩토큰:  [    0     0     0     0     0     0     0     0     0     0     0  3143\n",
      " 22928  1073 22929 22930 22931 22932]\n"
     ]
    }
   ],
   "source": [
    "x_train = df1.title\n",
    "x_test = df2.title\n",
    "print(\"첫번째 학습셋 입력: \", x_train[0])\n",
    "train_result = tokenizer.texts_to_sequences(x_train)\n",
    "test_result = tokenizer.texts_to_sequences(x_test)\n",
    "print(\"첫번째 학습셋 토큰 결과: \", train_result[0])\n",
    "print(\"첫번째 테스트셋 토큰 결과: \", test_result[0])\n",
    "padded_train_x = pad_sequences(train_result, 18)\n",
    "print(\"학습셋 첫번째 패딩토큰: \",padded_train_x[0])\n",
    "padded_test_x = pad_sequences(test_result, 18)\n",
    "print(\"테스트셋 첫번쨰 패딩토큰: \",padded_test_x[0])"
   ]
  },
  {
   "cell_type": "code",
   "execution_count": 18,
   "id": "7d88dd74",
   "metadata": {},
   "outputs": [
    {
     "name": "stdout",
     "output_type": "stream",
     "text": [
      "178/178 [==============================] - 0s 73us/step\n",
      "\n",
      " Test Accuracy: 0.2472\n"
     ]
    }
   ],
   "source": [
    "from keras.utils import np_utils\n",
    "\n",
    "y_train = np_utils.to_categorical(df1.section)\n",
    "y_test = np_utils.to_categorical(df2.section)\n",
    "\n",
    "print(\"\\n Test Accuracy: %.4f\" % (model.evaluate(padded_test_x, y_test)[1]))"
   ]
  },
  {
   "cell_type": "code",
   "execution_count": 76,
   "id": "e8d74d26",
   "metadata": {},
   "outputs": [
    {
     "name": "stdout",
     "output_type": "stream",
     "text": [
      "이재명-친문 가까이하기도 멀리하기도 딜레마[홍영식의 정치판]\n",
      "[40]\n",
      "Index: 40, Actucal Section: 0, Expection Section: 0\n"
     ]
    }
   ],
   "source": [
    "input_title = x_test[40]\n",
    "#input_title = input(\"제목을 입력하세요: \")\n",
    "print(input_title)\n",
    "target_index = df2[df2['title'] == input_title].index.values \n",
    "print(target_index)\n",
    "\n",
    "Y_prediction = model.predict(padded_train_x)\n",
    "label =   np.argmax(y_test[target_index])\n",
    "prediction = np.argmax(Y_prediction[target_index])\n",
    "\n",
    "print(\"Index: %.f, Actucal Section: %.f, Expection Section: %.f\"\n",
    "      %(target_index,label, prediction))"
   ]
  },
  {
   "cell_type": "code",
   "execution_count": 72,
   "id": "bcb0fab7",
   "metadata": {
    "scrolled": true
   },
   "outputs": [
    {
     "name": "stdout",
     "output_type": "stream",
     "text": [
      "(10070, 94639)\n",
      "  (0, 64883)\t2\n",
      "  (0, 14441)\t1\n",
      "  (0, 43988)\t1\n",
      "  (0, 56182)\t1\n",
      "  (0, 10676)\t1\n",
      "  (0, 78631)\t1\n",
      "  (0, 34062)\t1\n",
      "  (0, 28936)\t1\n",
      "  (0, 91974)\t1\n",
      "  (0, 37509)\t1\n",
      "  (0, 64890)\t1\n",
      "  (0, 14442)\t1\n",
      "  (0, 43989)\t1\n",
      "  (0, 56183)\t1\n",
      "  (0, 10741)\t1\n",
      "  (0, 78648)\t1\n",
      "  (0, 64896)\t1\n",
      "  (0, 34063)\t1\n",
      "  (0, 28937)\t1\n",
      "  (0, 91981)\t1\n",
      "  (0, 64891)\t1\n",
      "  (0, 14443)\t1\n",
      "  (0, 43990)\t1\n",
      "  (0, 56184)\t1\n",
      "  (0, 10743)\t1\n",
      "  :\t:\n",
      "  (10068, 52718)\t1\n",
      "  (10068, 84543)\t1\n",
      "  (10068, 69555)\t1\n",
      "  (10068, 43002)\t1\n",
      "  (10069, 93009)\t1\n",
      "  (10069, 48031)\t1\n",
      "  (10069, 9187)\t1\n",
      "  (10069, 86849)\t1\n",
      "  (10069, 32759)\t1\n",
      "  (10069, 48088)\t1\n",
      "  (10069, 39247)\t1\n",
      "  (10069, 88624)\t1\n",
      "  (10069, 39306)\t1\n",
      "  (10069, 32768)\t1\n",
      "  (10069, 86863)\t1\n",
      "  (10069, 39248)\t1\n",
      "  (10069, 88625)\t1\n",
      "  (10069, 9240)\t1\n",
      "  (10069, 39307)\t1\n",
      "  (10069, 32769)\t1\n",
      "  (10069, 86864)\t1\n",
      "  (10069, 39249)\t1\n",
      "  (10069, 88626)\t1\n",
      "  (10069, 9241)\t1\n",
      "  (10069, 39308)\t1\n",
      "[[1.         0.         0.09682458 ... 0.         0.         0.        ]\n",
      " [0.         1.         0.         ... 0.         0.         0.        ]\n",
      " [0.09682458 0.         1.         ... 0.         0.         0.        ]\n",
      " ...\n",
      " [0.         0.         0.         ... 1.         0.         0.        ]\n",
      " [0.         0.         0.         ... 0.         1.         0.05143445]\n",
      " [0.         0.         0.         ... 0.         0.05143445 1.        ]]\n",
      "[[    0   462  2808 ...  6691  6690  5034]\n",
      " [    1   693  3709 ...  6700  6699     0]\n",
      " [    2  2808   462 ...  6685  6684  5034]\n",
      " ...\n",
      " [10067 10066  9110 ...  6707  6706     0]\n",
      " [10068  1079  2894 ...  6707  6706     0]\n",
      " [10069  2072  6442 ...  6668  6667     0]]\n"
     ]
    }
   ],
   "source": [
    "from sklearn.feature_extraction.text import CountVectorizer\n",
    "\n",
    "#print( df1[['title']].head(5) )\n",
    "count_vector = CountVectorizer( ngram_range=(1,3) )\n",
    "c_vector_titles = count_vector.fit_transform( df1['title'].append(df2['title'][:70]))\n",
    "print( c_vector_titles.shape )\n",
    "print( c_vector_titles )\n",
    "\n",
    "#유사도분석\n",
    "from sklearn.metrics.pairwise import cosine_similarity\n",
    "titles_c_sim = cosine_similarity( c_vector_titles )\n",
    "print( titles_c_sim )\n",
    "titles_c_sim = titles_c_sim.argsort()[:, ::-1]\n",
    "print( titles_c_sim )"
   ]
  },
  {
   "cell_type": "code",
   "execution_count": null,
   "id": "d0e9d3e6",
   "metadata": {},
   "outputs": [],
   "source": [
    "print( titles_c_sim [1])"
   ]
  },
  {
   "cell_type": "code",
   "execution_count": 77,
   "id": "e17bbfbe",
   "metadata": {},
   "outputs": [
    {
     "name": "stdout",
     "output_type": "stream",
     "text": [
      "target_index:                                            title  section\n",
      "0      유시민 검찰도 사법도 썩었지 vs 진중권 유시민 망상 대중은 현실로 믿어        0\n",
      "4                        여야 총선 필승 다짐...국회는 가시밭길        0\n",
      "8         SBS 여론조사③ 국정지지도 잘한다 49.3 vs 못한다 46.1%        0\n",
      "12      SBS 여론조사② 비례정당 투표의향 있다 47.4 vs 없다 46.5%        0\n",
      "16          SBS 여론조사① 총선 지지 정당…민주 43.8 한국 24.5%        0\n",
      "...                                         ...      ...\n",
      "10039               홍남기 부동산 제도 보완 목소리 논의 속도 내달라        0\n",
      "10040         이재명-친문 가까이하기도 멀리하기도 딜레마[홍영식의 정치판]        0\n",
      "10041        적으로 돌아선 국민의힘-김종인 윤석열 쟁탈전[홍영식의 정치판]        0\n",
      "10042        여당의 서울·부산시장 참패가 흔든 대선 구도[홍영식의 정치판]        0\n",
      "10043      부동산에 화난 중도층·2030이 선거판 흔들다 [홍영식의 정치판]        0\n",
      "\n",
      "[2544 rows x 2 columns]\n",
      "target_index2:  [10040]\n",
      "[[10040 10041 10043 10042  9918]]\n",
      "sim_index2 [10040 10041 10043 10042  9918]\n",
      "sim_index3  [10041 10043 10042  9918]\n"
     ]
    },
    {
     "data": {
      "text/html": [
       "<div>\n",
       "<style scoped>\n",
       "    .dataframe tbody tr th:only-of-type {\n",
       "        vertical-align: middle;\n",
       "    }\n",
       "\n",
       "    .dataframe tbody tr th {\n",
       "        vertical-align: top;\n",
       "    }\n",
       "\n",
       "    .dataframe thead th {\n",
       "        text-align: right;\n",
       "    }\n",
       "</style>\n",
       "<table border=\"1\" class=\"dataframe\">\n",
       "  <thead>\n",
       "    <tr style=\"text-align: right;\">\n",
       "      <th></th>\n",
       "      <th>title</th>\n",
       "      <th>section</th>\n",
       "    </tr>\n",
       "  </thead>\n",
       "  <tbody>\n",
       "    <tr>\n",
       "      <th>10040</th>\n",
       "      <td>이재명-친문 가까이하기도 멀리하기도 딜레마[홍영식의 정치판]</td>\n",
       "      <td>0</td>\n",
       "    </tr>\n",
       "    <tr>\n",
       "      <th>10041</th>\n",
       "      <td>적으로 돌아선 국민의힘-김종인 윤석열 쟁탈전[홍영식의 정치판]</td>\n",
       "      <td>0</td>\n",
       "    </tr>\n",
       "    <tr>\n",
       "      <th>10043</th>\n",
       "      <td>부동산에 화난 중도층·2030이 선거판 흔들다 [홍영식의 정치판]</td>\n",
       "      <td>0</td>\n",
       "    </tr>\n",
       "    <tr>\n",
       "      <th>10042</th>\n",
       "      <td>여당의 서울·부산시장 참패가 흔든 대선 구도[홍영식의 정치판]</td>\n",
       "      <td>0</td>\n",
       "    </tr>\n",
       "    <tr>\n",
       "      <th>9918</th>\n",
       "      <td>인사말 하는 이재명</td>\n",
       "      <td>2</td>\n",
       "    </tr>\n",
       "  </tbody>\n",
       "</table>\n",
       "</div>"
      ],
      "text/plain": [
       "                                      title  section\n",
       "10040     이재명-친문 가까이하기도 멀리하기도 딜레마[홍영식의 정치판]        0\n",
       "10041    적으로 돌아선 국민의힘-김종인 윤석열 쟁탈전[홍영식의 정치판]        0\n",
       "10043  부동산에 화난 중도층·2030이 선거판 흔들다 [홍영식의 정치판]        0\n",
       "10042    여당의 서울·부산시장 참패가 흔든 대선 구도[홍영식의 정치판]        0\n",
       "9918                             인사말 하는 이재명        2"
      ]
     },
     "execution_count": 77,
     "metadata": {},
     "output_type": "execute_result"
    }
   ],
   "source": [
    "def get_recommend_news_list(df, input_title , input_section, top = 5): # 입력 제목 영화의 인텍스 값 추출 \n",
    "    target_index = df[ (df['section'] == input_section)]\n",
    "    print( \"target_index: \", target_index ) \n",
    "    target_index2 = target_index[target_index['title'] == input_title].index.values \n",
    "    print(\"target_index2: \", target_index2 ) \n",
    "    # 코사인 유사도 중 비슷한 코사인 유사도를 가진 정보를 추출\n",
    "\n",
    "    sim_index1 = titles_c_sim[target_index2, :top]\n",
    "    print( sim_index1 )\n",
    "    sim_index2 = sim_index1.reshape(-1)\n",
    "    print(\"sim_index2\", sim_index2 )\n",
    "    # 본인 제외\n",
    "    sim_index3 = sim_index2[ sim_index2 != target_index2]\n",
    "    print(\"sim_index3 \", sim_index3 )\n",
    "    return  df.iloc[ sim_index2 ]\n",
    "    \n",
    "get_recommend_news_list( df4 ,input_title, prediction)"
   ]
  },
  {
   "cell_type": "code",
   "execution_count": 70,
   "id": "aa3c177b",
   "metadata": {},
   "outputs": [
    {
     "name": "stdout",
     "output_type": "stream",
     "text": [
      "[10003]\n"
     ]
    }
   ],
   "source": [
    "target_index2 = df4[df4['title'] == input_title].index.values\n",
    "print(target_index2)"
   ]
  },
  {
   "cell_type": "code",
   "execution_count": null,
   "id": "03571205",
   "metadata": {},
   "outputs": [],
   "source": []
  }
 ],
 "metadata": {
  "kernelspec": {
   "display_name": "Python [conda env:tutorial] *",
   "language": "python",
   "name": "conda-env-tutorial-py"
  },
  "language_info": {
   "codemirror_mode": {
    "name": "ipython",
    "version": 3
   },
   "file_extension": ".py",
   "mimetype": "text/x-python",
   "name": "python",
   "nbconvert_exporter": "python",
   "pygments_lexer": "ipython3",
   "version": "3.6.13"
  }
 },
 "nbformat": 4,
 "nbformat_minor": 5
}
