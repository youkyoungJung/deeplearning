{
 "cells": [
  {
   "cell_type": "code",
   "execution_count": 14,
   "id": "unavailable-ratio",
   "metadata": {},
   "outputs": [
    {
     "name": "stdout",
     "output_type": "stream",
     "text": [
      "랜덤함수:  [59, 35, 59, 89, 91, 78, 25, 73, 4, 6, 42, 88, 42, 52, 47, 15]\n",
      "이차원배열: \n",
      " [[59 35 59 89 91 78 25 73]\n",
      " [ 4  6 42 88 42 52 47 15]]\n",
      "벡터 :  (2, 8)\n",
      "차원정보확인 :  2\n",
      "서브벡터크기 :  8\n",
      "전체출력 : \n",
      " [[59 35 59 89 91 78 25 73]\n",
      " [ 4  6 42 88 42 52 47 15]]\n",
      "전체 최댓값(All):  91\n",
      "SUBMAX 0:  91\n",
      "SUBMAX 1:  88\n",
      "-------함수 사용 버전--------\n",
      "ALL :  91\n",
      "SUBMAX 0 :  91\n",
      "SUBMAX 1 :  88\n"
     ]
    }
   ],
   "source": [
    "import numpy as np\n",
    "a = np.random.randint(1, 99, size = 16)\n",
    "print(\"랜덤함수: \", list(a))\n",
    "aa = np.reshape(list(a), (2,8))\n",
    "print(\"이차원배열: \\n\",aa)\n",
    "A = aa.copy()\n",
    "print(\"벡터 : \", A.shape)\n",
    "print(\"차원정보확인 : \", A.ndim)\n",
    "print(\"서브벡터크기 : \", len(A[0]))\n",
    "print(\"전체출력 : \\n\", A)\n",
    "\n",
    "max_value = -1\n",
    "for i in A:\n",
    "    for j in i:\n",
    "        if max_value < j:\n",
    "            max_value = j\n",
    "print(\"전체 최댓값(All): \",  max_value)\n",
    "'''\n",
    "for, shape를 이용한 최댓값 찾기\n",
    "'''\n",
    "sub_value0 = -1\n",
    "for i in range(A.shape[0]):\n",
    "    for j in range(A.shape[1]):\n",
    "        if sub_value0 < A[i][j]:\n",
    "            sub_value0 = A[i][j]\n",
    "print(\"SUBMAX 0: \",  sub_value0)\n",
    "\n",
    "sub_value1 = -1\n",
    "for i in A[1]:\n",
    "        if sub_value1 < i:\n",
    "            sub_value1 = i\n",
    "print(\"SUBMAX 1: \",  sub_value1)\n",
    "\n",
    "print(\"-------함수 사용 버전--------\")\n",
    "print(\"ALL : \", np.max(A))\n",
    "print(\"SUBMAX 0 : \", np.max(A[0]))\n",
    "print(\"SUBMAX 1 : \", np.max(A[1]))"
   ]
  },
  {
   "cell_type": "code",
   "execution_count": 15,
   "id": "acute-sterling",
   "metadata": {},
   "outputs": [
    {
     "name": "stdout",
     "output_type": "stream",
     "text": [
      "삼차원배열: \n",
      " [[[59 35 59 89]\n",
      "  [91 78 25 73]]\n",
      "\n",
      " [[ 4  6 42 88]\n",
      "  [42 52 47 15]]]\n",
      "벡터 :  (2, 2, 4)\n",
      "차원정보확인 :  3\n",
      "전체출력 : \n",
      " [[[59 35 59 89]\n",
      "  [91 78 25 73]]\n",
      "\n",
      " [[ 4  6 42 88]\n",
      "  [42 52 47 15]]]\n"
     ]
    }
   ],
   "source": [
    "B = np.reshape(A, (2,2,4))\n",
    "print(\"삼차원배열: \\n\",B)\n",
    "print(\"벡터 : \", B.shape)\n",
    "print(\"차원정보확인 : \", B.ndim)\n",
    "print(\"전체출력 : \\n\", B)"
   ]
  },
  {
   "cell_type": "code",
   "execution_count": 16,
   "id": "applied-contractor",
   "metadata": {},
   "outputs": [
    {
     "name": "stdout",
     "output_type": "stream",
     "text": [
      "B_01: \n",
      " [[59 35]\n",
      " [91 78]]\n",
      "B_02: \n",
      " [[59 89]\n",
      " [25 73]]\n",
      "C: \n",
      " [[[59 35 59 89]\n",
      "  [91 78 25 73]]\n",
      "\n",
      " [[ 4  6 42 88]\n",
      "  [42 52 47 15]]]\n",
      "C: \n",
      " [[[59 89 59 35]\n",
      "  [25 73 91 78]]\n",
      "\n",
      " [[42 88  4  6]\n",
      "  [47 15 42 52]]]\n"
     ]
    }
   ],
   "source": [
    "B_01 = B[0, : , 0:2]\n",
    "B_02 = B[0, : , 2:4]\n",
    "print(\"B_01: \\n\", B_01)\n",
    "print(\"B_02: \\n\", B_02)\n",
    "\n",
    "C = B.copy()\n",
    "print(\"C: \\n\", C)\n",
    "C[:, : , [0,1]] = B[:, : , [2,3]]\n",
    "C[:, : , [2,3]] = B[:, : , [0,1]]\n",
    "\n",
    "print(\"C: \\n\", C)"
   ]
  },
  {
   "cell_type": "code",
   "execution_count": null,
   "id": "veterinary-circle",
   "metadata": {},
   "outputs": [],
   "source": []
  }
 ],
 "metadata": {
  "kernelspec": {
   "display_name": "Python 3",
   "language": "python",
   "name": "python3"
  },
  "language_info": {
   "codemirror_mode": {
    "name": "ipython",
    "version": 3
   },
   "file_extension": ".py",
   "mimetype": "text/x-python",
   "name": "python",
   "nbconvert_exporter": "python",
   "pygments_lexer": "ipython3",
   "version": "3.6.5"
  }
 },
 "nbformat": 4,
 "nbformat_minor": 5
}
